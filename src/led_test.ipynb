{
 "cells": [
  {
   "cell_type": "code",
   "execution_count": null,
   "metadata": {},
   "outputs": [],
   "source": [
    "from LEDController import LEDController\n",
    "from CameraController import CameraController\n",
    "from DataCollection import DataCollection\n",
    "import time\n",
    "\n",
    "hdri_name = \"bloem\"\n",
    "calibration_idx = 57\n",
    "calibration_images_folder = \"data/optimized_hdri_results\"\n",
    "\n",
    "hdri_list = [\n",
    "    # \"bloem\", \n",
    "    # \"cinema_lobby_4k\", \n",
    "    # \"circus_arena_4k\", \n",
    "    # \"indoor\", \n",
    "    # \"night\",\n",
    "    \"winter\"\n",
    "    ]\n",
    "\n",
    "# led = LEDController()\n",
    "# CollectionController = DataCollection(led_test=False, camera_test=False, calibration_folder=calibration_images_folder)\n",
    "# camera = CameraController()\n"
   ]
  },
  {
   "cell_type": "code",
   "execution_count": 20,
   "metadata": {},
   "outputs": [
    {
     "name": "stdout",
     "output_type": "stream",
     "text": [
      "Current mode: {'mode': 'rt', 'detect_mode': 0, 'shop_mode': 0, 'code': 1000}\n",
      "Current mode: {'mode': 'rt', 'detect_mode': 0, 'shop_mode': 0, 'code': 1000}\n",
      "Current mode: {'mode': 'rt', 'detect_mode': 0, 'shop_mode': 0, 'code': 1000}\n",
      "Current mode: {'mode': 'rt', 'detect_mode': 0, 'shop_mode': 0, 'code': 1000}\n",
      "Current mode: {'mode': 'rt', 'detect_mode': 0, 'shop_mode': 0, 'code': 1000}\n",
      "Current mode: {'mode': 'rt', 'detect_mode': 0, 'shop_mode': 0, 'code': 1000}\n"
     ]
    }
   ],
   "source": [
    "\n",
    "\n",
    "# camera.open_camera()\n",
    "\n",
    "# led_emitters = led.get_emitters_from_json(f\"src/data/optimized_hdri/optimized_{hdri_name}_{calibration_idx}.json\")\n",
    "\n",
    "for hdri in hdri_list:\n",
    "    led_emitters = led.get_emitters_from_json(f\"data/optimized_hdri/optimized_{hdri}_{calibration_idx}.json\")\n",
    "\n",
    "    patt = led.get_pattern_from_emitters(led_emitters)\n",
    "\n",
    "    led.display_pattern(patt)\n",
    "\n",
    "    # camera.open_camera()\n",
    "\n",
    "\n",
    "    # CollectionController.take_image()\n",
    "    # CollectionController.download_latest_image(filename=f\"{hdri}_{calibration_idx}_result.jpg\")\n",
    "\n",
    "    time.sleep(30)\n",
    "# camera.terminate_sdk()\n",
    "# CollectionController.close_sdk()\n",
    "\n",
    "\n"
   ]
  },
  {
   "cell_type": "code",
   "execution_count": 3,
   "metadata": {},
   "outputs": [
    {
     "name": "stdout",
     "output_type": "stream",
     "text": [
      "bloem\n",
      "Saved result: data/optimized_hdri_results/brighter_gnome/bloem_result.png\n",
      "cinema_lobby_4k\n",
      "Saved result: data/optimized_hdri_results/brighter_gnome/cinema_lobby_4k_result.png\n",
      "circus_arena_4k\n",
      "Saved result: data/optimized_hdri_results/brighter_gnome/circus_arena_4k_result.png\n",
      "indoor\n",
      "Saved result: data/optimized_hdri_results/brighter_gnome/indoor_result.png\n",
      "night\n",
      "Saved result: data/optimized_hdri_results/brighter_gnome/night_result.png\n",
      "winter\n",
      "Saved result: data/optimized_hdri_results/brighter_gnome/winter_result.png\n"
     ]
    }
   ],
   "source": [
    "from Utils import SceneUtils\n",
    "import cv2\n",
    "import os\n",
    "\n",
    "# src/data/optimized_hdri_results/bloem_no_obj.JPG\n",
    "\n",
    "folder = \"data/optimized_hdri_results/brighter_gnome\"\n",
    "for hdri in hdri_list:\n",
    "    print(hdri)\n",
    "    im1 = cv2.imread(f\"{folder}/{hdri}_obj.JPG\")\n",
    "    # cv2.imshow(\"Image 1\", im1)\n",
    "    im2 = cv2.imread(f\"{folder}/{hdri}_no_obj.JPG\")\n",
    "    # cv2.imshow(\"Image 2\", im2)\n",
    "    mask = SceneUtils.get_mask(im2, im1, 10)\n",
    "    # cv2.imshow(\"Mask\", mask)\n",
    "\n",
    "    mask_path = os.path.join(folder, f\"{hdri}_mask.png\")\n",
    "    result_path = os.path.join(folder, f\"{hdri}_result.png\")\n",
    "\n",
    "    result = cv2.bitwise_and(im1, mask)\n",
    "\n",
    "\n",
    "    # save it\n",
    "    success_mask = cv2.imwrite(mask_path, mask)\n",
    "    success_result = cv2.imwrite(result_path, result)\n",
    "    if not success_result and not success_mask:\n",
    "        print(f\"Failed to save result for {hdri} at {result_path}\")\n",
    "    else:\n",
    "        print(f\"Saved result: {result_path}\")\n",
    "    # if not success:\n",
    "    #     print(f\"Failed to save mask for {hdri} at {mask_path}\")\n",
    "    # else:\n",
    "    #     print(f\"Saved mask: {mask_path}\")\n",
    "\n",
    "\n",
    "    # cv2.waitKey(0)\n",
    "    # cv2.destroyAllWindows()\n",
    "# cv2.waitKey(0)\n",
    "# cv2.destroyAllWindows()\n",
    "\n"
   ]
  },
  {
   "cell_type": "code",
   "execution_count": null,
   "metadata": {},
   "outputs": [],
   "source": []
  }
 ],
 "metadata": {
  "kernelspec": {
   "display_name": "461project",
   "language": "python",
   "name": "python3"
  },
  "language_info": {
   "codemirror_mode": {
    "name": "ipython",
    "version": 3
   },
   "file_extension": ".py",
   "mimetype": "text/x-python",
   "name": "python",
   "nbconvert_exporter": "python",
   "pygments_lexer": "ipython3",
   "version": "3.11.11"
  }
 },
 "nbformat": 4,
 "nbformat_minor": 2
}
