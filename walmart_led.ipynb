{
 "cells": [
  {
   "cell_type": "code",
   "execution_count": 1,
   "metadata": {},
   "outputs": [
    {
     "name": "stderr",
     "output_type": "stream",
     "text": [
      "/opt/anaconda3/envs/461project/lib/python3.9/site-packages/xled/security.py:96: CryptographyDeprecationWarning: ARC4 has been moved to cryptography.hazmat.decrepit.ciphers.algorithms.ARC4 and will be removed from cryptography.hazmat.primitives.ciphers.algorithms in 48.0.0.\n",
      "  algorithm = algorithms.ARC4(key)\n"
     ]
    }
   ],
   "source": [
    "import xled\n",
    "import io\n",
    "import struct\n",
    "import numpy as np\n",
    "import time\n",
    "import math\n",
    "import random\n",
    "\n",
    "from xled.response import ApplicationResponse\n",
    "\n",
    "def set_rgb(control, r, g, b, brightness, saturation):\n",
    "    json_payload = {\"red\": r, \"green\": g, \"blue\": b}\n",
    "    response = control.session.post(\"led/color\", json=json_payload)\n",
    "    app_response = ApplicationResponse(response)\n",
    "    required_keys = [u\"code\"]\n",
    "    assert all(key in app_response.keys() for key in required_keys)\n",
    "\n",
    "    control.set_brightness(brightness)\n",
    "    control.set_saturation(saturation)\n",
    "    return response\n",
    "\n",
    "discovered_device = xled.discover.discover()\n",
    "host = discovered_device.ip_address\n",
    "hw = discovered_device.hw_address\n",
    "control = xled.control.ControlInterface(host, hw_address=hw)\n",
    "device_data = control.get_device_info().data\n"
   ]
  },
  {
   "cell_type": "code",
   "execution_count": 2,
   "metadata": {},
   "outputs": [],
   "source": [
    "def na_set_pattern(control, patt):\n",
    "    movie = to_movie(patt)\n",
    "\n",
    "    # control.set_mode(\"off\")\n",
    "    movie.seek(0)\n",
    "    control.set_led_movie_config(frame_delay=0,frames_number=1, leds_number=device_data[\"number_of_led\"])\n",
    "    control.set_led_movie_full(movie)\n",
    "    if control.get_mode() != 'movie':\n",
    "        control.set_mode('movie')\n",
    "\n",
    "def to_movie(patlst):\n",
    "    movie = io.BytesIO()\n",
    "    if isinstance(patlst, list):\n",
    "        for ele in patlst:\n",
    "            if isinstance(ele, list):\n",
    "                ele = b\"\".join(ele)\n",
    "            movie.write(ele)\n",
    "    else:\n",
    "        movie.write(patlst)\n",
    "    movie.seek(0)\n",
    "    return movie\n",
    "\n",
    "def make_pixel(r, g, b, w):\n",
    "\n",
    "    r = math.ceil(r * (w/255))\n",
    "    g = math.ceil(g * (w/255))\n",
    "    b = math.ceil(b * (w/255))\n",
    "\n",
    "    return struct.pack(\">BBB\", r, g, b)\n",
    "\n",
    "def display_pattern(control, patt):\n",
    "    frame = to_movie(patt)\n",
    "\n",
    "    if control.get_mode() != \"rt\":\n",
    "        control.set_mode(\"rt\")\n",
    "\n",
    "    print(control.get_mode().data)\n",
    "\n",
    "    return control.set_rt_frame_rest(frame)"
   ]
  },
  {
   "cell_type": "code",
   "execution_count": null,
   "metadata": {},
   "outputs": [
    {
     "name": "stdout",
     "output_type": "stream",
     "text": [
      "{'mode': 'rt', 'detect_mode': 0, 'shop_mode': 0, 'code': 1000}\n"
     ]
    },
    {
     "data": {
      "text/plain": [
       "<ApplicationResponse [1000]>"
      ]
     },
     "execution_count": 36,
     "metadata": {},
     "output_type": "execute_result"
    }
   ],
   "source": [
    "###########\n",
    "# Testing #\n",
    "###########\n",
    "\n",
    "# patt = [make_pixel(0,0,0,0)] * device_data[\"number_of_led\"]\n",
    "\n",
    "# # patt[599] = make_pixel(255,0,0, 255)\n",
    "# # patt[299] = make_pixel(1,0,0, 1)\n",
    "# patt[0] = make_pixel(0,255,0, 255)\n",
    "# patt[299] = make_pixel(255,0,0, 255)\n",
    "# patt[300] = make_pixel(0,255,0, 255)\n",
    "# patt[599] = make_pixel(255,0,0, 255)\n",
    "# patt[34] = make_pixel(0,0,255, 255)\n",
    "\n",
    "\n",
    "# display_pattern(control, patt)"
   ]
  },
  {
   "cell_type": "code",
   "execution_count": 12,
   "metadata": {},
   "outputs": [
    {
     "name": "stdout",
     "output_type": "stream",
     "text": [
      "{'mode': 'rt', 'detect_mode': 0, 'shop_mode': 0, 'code': 1000}\n"
     ]
    },
    {
     "data": {
      "text/plain": [
       "<ApplicationResponse [1000]>"
      ]
     },
     "execution_count": 12,
     "metadata": {},
     "output_type": "execute_result"
    }
   ],
   "source": [
    "patt = patt = [make_pixel(0,0,0, 0)] * device_data[\"number_of_led\"]\n",
    "\n",
    "patt[0] = make_pixel(255,255,255, 255)\n",
    "patt[168] = make_pixel(255,255,255, 255)\n",
    "patt[170] = make_pixel(255,255,255, 255)\n",
    "patt[299] = make_pixel(255,255,255, 255)\n",
    "\n",
    "patt[301] = make_pixel(255,255,255, 255)\n",
    "patt[469] = make_pixel(255,255,255, 255)\n",
    "patt[471] = make_pixel(255,255,255, 255)\n",
    "patt[599] = make_pixel(255,255,255, 255)\n",
    "\n",
    "\n",
    "# for i in range(device_data[\"number_of_led\"]):\n",
    "#     # r = random.randint(254)\n",
    "#     # g = random.randint(254)\n",
    "#     # b = random.randint(254)\n",
    "\n",
    "#     patt[i] = make_pixel(255,255,255, 255)\n",
    "    # patt[device_data[\"number_of_led\"]-1-i] = make_pixel(255,255,255,255)\n",
    "    # display_pattern(control, patt)\n",
    "\n",
    "display_pattern(control, patt)"
   ]
  },
  {
   "cell_type": "code",
   "execution_count": 39,
   "metadata": {},
   "outputs": [
    {
     "data": {
      "text/plain": [
       "<ApplicationResponse [1000]>"
      ]
     },
     "execution_count": 39,
     "metadata": {},
     "output_type": "execute_result"
    }
   ],
   "source": [
    "control.set_mode(\"off\")"
   ]
  },
  {
   "cell_type": "code",
   "execution_count": null,
   "metadata": {},
   "outputs": [],
   "source": []
  },
  {
   "cell_type": "code",
   "execution_count": null,
   "metadata": {},
   "outputs": [],
   "source": []
  },
  {
   "cell_type": "code",
   "execution_count": null,
   "metadata": {},
   "outputs": [],
   "source": []
  },
  {
   "cell_type": "code",
   "execution_count": null,
   "metadata": {},
   "outputs": [],
   "source": []
  }
 ],
 "metadata": {
  "kernelspec": {
   "display_name": "461project",
   "language": "python",
   "name": "python3"
  },
  "language_info": {
   "codemirror_mode": {
    "name": "ipython",
    "version": 3
   },
   "file_extension": ".py",
   "mimetype": "text/x-python",
   "name": "python",
   "nbconvert_exporter": "python",
   "pygments_lexer": "ipython3",
   "version": "3.9.21"
  }
 },
 "nbformat": 4,
 "nbformat_minor": 2
}
